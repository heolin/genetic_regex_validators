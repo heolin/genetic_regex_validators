{
 "cells": [
  {
   "cell_type": "code",
   "execution_count": 19,
   "metadata": {
    "collapsed": true
   },
   "outputs": [],
   "source": [
    "%matplotlib inline"
   ]
  },
  {
   "cell_type": "code",
   "execution_count": 20,
   "metadata": {
    "collapsed": true
   },
   "outputs": [],
   "source": [
    "import array\n",
    "\n",
    "import random\n",
    "import numpy as np\n",
    "\n",
    "from deap import algorithms\n",
    "from deap import base\n",
    "from deap import creator\n",
    "from deap import tools\n",
    "from deap import gp\n",
    "\n",
    "import operator\n",
    "import math\n",
    "\n",
    "import matplotlib.pyplot as plt\n",
    "from networkx.drawing.nx_agraph import graphviz_layout\n",
    "\n",
    "import networkx as nx"
   ]
  },
  {
   "cell_type": "code",
   "execution_count": 56,
   "metadata": {
    "collapsed": true
   },
   "outputs": [],
   "source": [
    "class RegexNode(object):\n",
    "    def __init__(self):\n",
    "        self.left = None\n",
    "        self.right = None\n",
    "    \n",
    "    @staticmethod\n",
    "    def create2(left, right):\n",
    "        rn = RegexNode()\n",
    "        rn.left = left\n",
    "        rn.right = right\n",
    "        return rn\n",
    "    \n",
    "    @staticmethod\n",
    "    def create1(value):\n",
    "        rn = RegexNode()\n",
    "        rn.left = value\n",
    "        rn.right = None\n",
    "        return rn\n",
    "    \n",
    "    def get_value(self):\n",
    "        return self.left + self.right\n",
    "    \n",
    "    \n",
    "class RegexSymbol(RegexSymbol):\n",
    "    def __init__(self):\n",
    "        self.value = None\n",
    "        \n",
    "    @staticmethod\n",
    "    def create(value):\n",
    "        rc = RegexSymbol()\n",
    "        rc.value = value\n",
    "        return rc\n",
    "\n",
    "    def get_value(self):\n",
    "        return self.value\n",
    "    \n",
    "\n",
    "class RegexSymbolsFactory():\n",
    "    @staticmethod\n",
    "    def create_UpperLetters():\n",
    "        return RegexSymbol.create(\"A-Z\")\n",
    "    \n",
    "    @staticmethod\n",
    "    def create_Digits():\n",
    "        return RegexSymbol.create(\"0-9\")\n",
    "    \n",
    "    @staticmethod\n",
    "    def create_LowerLetters():\n",
    "        return RegexSymbol.create(\"a-z\")"
   ]
  },
  {
   "cell_type": "code",
   "execution_count": 57,
   "metadata": {
    "collapsed": false
   },
   "outputs": [],
   "source": [
    "pset = gp.PrimitiveSetTyped(\"main\", [], RegexNode)\n",
    "\n",
    "pset.addPrimitive(RegexNode.create2, [RegexNode, RegexNode], RegexNode, \"CreateNode2\")\n",
    "pset.addPrimitive(RegexNode.create1, [RegexNode], RegexNode, \"CreateNode1\")\n",
    "\n",
    "pset.addPrimitive(RegexSymbol_Letters.create, [], RegexNode, \"Letters\")\n",
    "pset.addTerminal(RegexSymbol_Letters.create(), RegexNode, \"LettersT\")"
   ]
  },
  {
   "cell_type": "code",
   "execution_count": 58,
   "metadata": {
    "collapsed": true
   },
   "outputs": [],
   "source": [
    "creator.create(\"Fitness\", base.Fitness, weights=(1.0, -1.0))\n",
    "creator.create(\"Individual\", gp.PrimitiveTree, fitness=creator.Fitness)\n",
    "\n",
    "toolbox = base.Toolbox()\n",
    "toolbox.register(\"expr\", gp.genFull, pset=pset, min_=3, max_=5)\n",
    "toolbox.register(\"individual\", tools.initIterate, creator.Individual, toolbox.expr)\n",
    "toolbox.register(\"population\", tools.initRepeat, list, toolbox.individual)\n",
    "toolbox.register(\"compile\", gp.compile, pset=pset)"
   ]
  },
  {
   "cell_type": "code",
   "execution_count": 59,
   "metadata": {
    "collapsed": false
   },
   "outputs": [
    {
     "data": {
      "image/png": "[encoded data removed]",
      "text/plain": [
       "<matplotlib.figure.Figure at 0x7f5e5d0d3950>"
      ]
     },
     "metadata": {},
     "output_type": "display_data"
    }
   ],
   "source": [
    "expr = toolbox.individual()\n",
    "draw_tree(expr)"
   ]
  },
  {
   "cell_type": "code",
   "execution_count": 53,
   "metadata": {
    "collapsed": true
   },
   "outputs": [],
   "source": [
    "def draw_tree(expr):\n",
    "    nodes, edges, labels = gp.graph(expr)\n",
    "    g = nx.Graph()\n",
    "    g.add_nodes_from(nodes)\n",
    "    g.add_edges_from(edges)\n",
    "    pos = graphviz_layout(g, prog=\"dot\")\n",
    "\n",
    "    nx.draw_networkx_nodes(g, pos)\n",
    "    nx.draw_networkx_edges(g, pos)\n",
    "    nx.draw_networkx_labels(g, pos, labels)\n",
    "    plt.show()"
   ]
  },
  {
   "cell_type": "code",
   "execution_count": null,
   "metadata": {
    "collapsed": true
   },
   "outputs": [],
   "source": [
    "class RegexGroup(RegexNode):\n",
    "    pass\n",
    "\n",
    "\n",
    "class RegexOperator(RegexNode):\n",
    "    pass\n",
    "       \n",
    "\n",
    "class RegexRangeNode(RegexNode):\n",
    "    def __init__(self):\n",
    "        self.left = None\n",
    "        self.right = None\n",
    "    \n",
    "    @staticmethod\n",
    "    def create(left, right):\n",
    "        rn = RegexRangeNode()\n",
    "        rn.left = value\n",
    "        rn.right = right\n",
    "        return rn\n",
    "      "
   ]
  }
 ],
 "metadata": {
  "kernelspec": {
   "display_name": "Python 2",
   "language": "python",
   "name": "python2"
  },
  "language_info": {
   "codemirror_mode": {
    "name": "ipython",
    "version": 2
   },
   "file_extension": ".py",
   "mimetype": "text/x-python",
   "name": "python",
   "nbconvert_exporter": "python",
   "pygments_lexer": "ipython2",
   "version": "2.7.12"
  }
 },
 "nbformat": 4,
 "nbformat_minor": 2
}
