{
 "cells": [
  {
   "cell_type": "code",
   "execution_count": 5,
   "metadata": {
    "collapsed": true,
    "deletable": true,
    "editable": true
   },
   "outputs": [],
   "source": [
    "import array\n",
    "\n",
    "import random\n",
    "import numpy as np\n",
    "\n",
    "from deap import algorithms\n",
    "from deap import base\n",
    "from deap import creator\n",
    "from deap import tools\n",
    "from deap import gp\n",
    "\n",
    "import operator\n",
    "import math\n",
    "\n",
    "import matplotlib.pyplot as plt\n",
    "from networkx.drawing.nx_agraph import graphviz_layout\n",
    "\n",
    "import networkx as nx"
   ]
  },
  {
   "cell_type": "code",
   "execution_count": 6,
   "metadata": {
    "collapsed": true,
    "deletable": true,
    "editable": true
   },
   "outputs": [],
   "source": [
    "def draw_tree(expr):\n",
    "    nodes, edges, labels = gp.graph(expr)\n",
    "    g = nx.Graph()\n",
    "    g.add_nodes_from(nodes)\n",
    "    g.add_edges_from(edges)\n",
    "    pos = graphviz_layout(g, prog=\"dot\")\n",
    "\n",
    "    nx.draw_networkx_nodes(g, pos)\n",
    "    nx.draw_networkx_edges(g, pos)\n",
    "    nx.draw_networkx_labels(g, pos, labels)\n",
    "    plt.show()"
   ]
  },
  {
   "cell_type": "code",
   "execution_count": 7,
   "metadata": {
    "collapsed": false,
    "deletable": true,
    "editable": true
   },
   "outputs": [],
   "source": [
    "\n",
    "class RegexObject(object):\n",
    "    index = 0\n",
    "    def __init__(self):\n",
    "        self.index = RegexObject.index\n",
    "        RegexObject.index += 1\n",
    "        self.next = None\n",
    "        self.value = \"\"\n",
    "        \n",
    "    def add_next(self, next_object):\n",
    "        self.next = next_object\n",
    "        return self\n",
    "    \n",
    "    @staticmethod\n",
    "    def create():\n",
    "        return RegexObject()\n",
    "    \n",
    "    @staticmethod\n",
    "    def create_with_value(value):\n",
    "        regex = RegexObject()\n",
    "        regex.value = value\n",
    "        return regex\n",
    "    \n",
    "    @property\n",
    "    def regex(self):\n",
    "        result = self.value\n",
    "        if self.next:\n",
    "            result += self.next.regex \n",
    "        return result\n",
    "     \n",
    "class Group(RegexObject):\n",
    "    def __init__(self):\n",
    "        self.child = None\n",
    "\n",
    "    def add_child(self, child, next_object):\n",
    "        self.child = child\n",
    "        return self.add_next(next_object)\n",
    "    \n",
    "    @property\n",
    "    def group_value(self):\n",
    "        if self.child.regex:\n",
    "            return \"(?:\" + self.child.regex + \")+\"\n",
    "        return \"\"\n",
    "        \n",
    "    @property\n",
    "    def regex(self):\n",
    "        result = self.group_value\n",
    "        if self.next:\n",
    "            result += self.next.regex \n",
    "        return result\n",
    "     \n",
    "        \n",
    "class GroupValue(RegexObject):\n",
    "    pass\n",
    "\n",
    "        \n",
    "class Range(RegexObject):\n",
    "    def __init__(self):\n",
    "        self.child = None\n",
    "\n",
    "    def add_child(self, child, next_object):\n",
    "        self.child = child\n",
    "        return self.add_next(next_object)\n",
    "    \n",
    "    @property\n",
    "    def range_value(self):\n",
    "        if self.child.regex:\n",
    "            return \"[\" + self.child.regex + \"]+\"\n",
    "        return \"\"\n",
    "        \n",
    "    @property\n",
    "    def regex(self):\n",
    "        result = self.range_value\n",
    "        if self.next:\n",
    "            result += self.next.regex \n",
    "        return result\n",
    "\n",
    "    \n",
    "class RangeValue(RegexObject):\n",
    "    pass\n",
    "\n",
    "\n",
    "    \n",
    "class Factory(object):\n",
    "    def __init__(self, value):\n",
    "        self.value = \"\"\n",
    "        \n",
    "    @staticmethod\n",
    "    def create_value(value):\n",
    "        return lambda x:RegexObject.create_with_value(value).add_next(x)\n",
    "    \n",
    "    @staticmethod\n",
    "    def create_group():\n",
    "        return lambda x, y:Group().add_child(x, y)\n",
    "    \n",
    "    @staticmethod\n",
    "    def create_range():\n",
    "        return lambda x, y:Range().add_child(x, y)\n",
    "\n",
    "    "
   ]
  },
  {
   "cell_type": "code",
   "execution_count": 8,
   "metadata": {
    "collapsed": false,
    "deletable": true,
    "editable": true
   },
   "outputs": [],
   "source": [
    "pset = gp.PrimitiveSetTyped(\"main\", [], RegexObject)\n",
    "\n",
    "pset.addPrimitive(Factory.create_value(\"A\"), [RegexObject], RegexObject, \"RegexObject_A\")\n",
    "pset.addPrimitive(Factory.create_value(\"B\"), [RegexObject], RegexObject, \"RegexObject_B\")\n",
    "pset.addPrimitive(Factory.create_value(\"C\"), [RegexObject], RegexObject, \"RegexObject_C\")\n",
    "pset.addPrimitive(Factory.create_value(\"D\"), [RegexObject], RegexObject, \"RegexObject_D\")\n",
    "pset.addPrimitive(Factory.create_value(\"E\"), [RegexObject], RegexObject, \"RegexObject_E\")\n",
    "\n",
    "pset.addPrimitive(Factory.create_group(), [GroupValue, RegexObject], RegexObject, \"Group\")\n",
    "pset.addPrimitive(Factory.create_value(\"A\"), [RegexObject], GroupValue, \"GroupValue_A\")\n",
    "pset.addPrimitive(Factory.create_value(\"B\"), [RegexObject], GroupValue, \"GroupValue_B\")\n",
    "pset.addPrimitive(Factory.create_value(\"C\"), [RegexObject], GroupValue, \"GroupValue_C\")\n",
    "pset.addPrimitive(Factory.create_value(\"D\"), [RegexObject], GroupValue, \"GroupValue_D\")\n",
    "pset.addPrimitive(Factory.create_value(\"E\"), [RegexObject], GroupValue, \"GroupValue_E\")\n",
    "\n",
    "pset.addPrimitive(Factory.create_range(), [RangeValue, RegexObject], RegexObject, \"Range\")\n",
    "pset.addPrimitive(Factory.create_value(\"A\"), [RangeValue], RangeValue, \"RangeValue_A\")\n",
    "pset.addPrimitive(Factory.create_value(\"B\"), [RangeValue], RangeValue, \"RangeValue_B\")\n",
    "pset.addPrimitive(Factory.create_value(\"C\"), [RangeValue], RangeValue, \"RangeValue_C\")\n",
    "pset.addPrimitive(Factory.create_value(\"D\"), [RangeValue], RangeValue, \"RangeValue_D\")\n",
    "pset.addPrimitive(Factory.create_value(\"E\"), [RangeValue], RangeValue, \"RangeValue_E\")\n",
    "\n",
    "pset.addTerminal(RegexObject.create(), RegexObject, \"RegexEnd\")\n",
    "pset.addTerminal(GroupValue.create(), GroupValue, \"GroupEnd\")\n",
    "pset.addTerminal(RangeValue.create(), RangeValue, \"RangeEnd\")\n"
   ]
  },
  {
   "cell_type": "code",
   "execution_count": 9,
   "metadata": {
    "collapsed": false,
    "deletable": true,
    "editable": true
   },
   "outputs": [],
   "source": [
    "creator.create(\"Fitness\", base.Fitness, weights=(1.0, 1.0, -1.0, -1.0, -1.0))\n",
    "creator.create(\"Individual\", gp.PrimitiveTree, fitness=creator.Fitness)\n",
    "\n",
    "toolbox = base.Toolbox()\n",
    "toolbox.register(\"expr\", gp.genFull, pset=pset, min_=5, max_=10)\n",
    "toolbox.register(\"individual\", tools.initIterate, creator.Individual, toolbox.expr)\n",
    "toolbox.register(\"population\", tools.initRepeat, list, toolbox.individual)\n",
    "toolbox.register(\"compile\", gp.compile, pset=pset)"
   ]
  },
  {
   "cell_type": "code",
   "execution_count": 4,
   "metadata": {
    "collapsed": false,
    "deletable": true,
    "editable": true
   },
   "outputs": [
    {
     "ename": "NameError",
     "evalue": "name 'toolbox' is not defined",
     "output_type": "error",
     "traceback": [
      "\u001b[0;31m---------------------------------------------------------------------------\u001b[0m",
      "\u001b[0;31mNameError\u001b[0m                                 Traceback (most recent call last)",
      "\u001b[0;32m<ipython-input-4-498f217ab5d5>\u001b[0m in \u001b[0;36m<module>\u001b[0;34m()\u001b[0m\n\u001b[0;32m----> 1\u001b[0;31m \u001b[0mexpr\u001b[0m \u001b[0;34m=\u001b[0m \u001b[0mtoolbox\u001b[0m\u001b[0;34m.\u001b[0m\u001b[0mindividual\u001b[0m\u001b[0;34m(\u001b[0m\u001b[0;34m)\u001b[0m\u001b[0;34m\u001b[0m\u001b[0m\n\u001b[0m\u001b[1;32m      2\u001b[0m \u001b[0;34m\u001b[0m\u001b[0m\n\u001b[1;32m      3\u001b[0m \u001b[0mdraw_tree\u001b[0m\u001b[0;34m(\u001b[0m\u001b[0mexpr\u001b[0m\u001b[0;34m)\u001b[0m\u001b[0;34m\u001b[0m\u001b[0m\n",
      "\u001b[0;31mNameError\u001b[0m: name 'toolbox' is not defined"
     ]
    }
   ],
   "source": [
    "expr = toolbox.individual()\n",
    "\n",
    "draw_tree(expr)"
   ]
  },
  {
   "cell_type": "code",
   "execution_count": 7,
   "metadata": {
    "collapsed": false,
    "deletable": true,
    "editable": true
   },
   "outputs": [
    {
     "name": "stdout",
     "output_type": "stream",
     "text": [
      "ACCEBEBDDC\n"
     ]
    }
   ],
   "source": [
    "tree = gp.PrimitiveTree(expr)\n",
    "print gp.compile(tree, pset).regex"
   ]
  },
  {
   "cell_type": "code",
   "execution_count": 1,
   "metadata": {
    "collapsed": false,
    "deletable": true,
    "editable": true
   },
   "outputs": [],
   "source": [
    "PERFECT_SCALE = 1.0\n",
    "\n",
    "def sign(x):\n",
    "    if x > 0:\n",
    "        return 1.0\n",
    "    if x < 0:\n",
    "        return -1.0\n",
    "    return 0.0\n",
    "\n",
    "import re, sys\n",
    "correct_testset = [\"ADEADEADE\", \"ADDEADDEE\", \"AAADDEEEAADDEEADE\", \"ADEADEEE\",\"ADEEADEEEADEAAADE\", \"AADDEEAADDEE\", \"AADDEE\", \"AADDEE\", \"ADEEE\", \"AAADDE\", \"AAAAAADEEEE\", \"AAAADDDDEE\", \"ADDDDDEEEE\", \"AAADDDDE\"]\n",
    "wrong_testset = [\"DDAA\", \"DEEA\", \"AAAEEEDDD\", \"DDDAAAEEE\", \"EEEEDDAA\", \"EDA\", \"EAAA\", \"DEDEDE\", \"AAAAA\", \"ADEDEDEDEDE\", \"ADEDEEEE\", \"EE\", \"AEE\", \"AEEEE\", \"AEEEED\"]\n",
    "\n",
    "def test_testset(regex, testset):\n",
    "    total, partial, count = 0, 0, 0\n",
    "    \n",
    "    for test_item in testset:\n",
    "        match = re.match(regex, test_item)\n",
    "        if match:\n",
    "            result = match.groups()[0]\n",
    "            value = len(result) / float(len(test_item))\n",
    "            if value == 1.0:\n",
    "                total += 1\n",
    "            partial += value\n",
    "        count += 1.0\n",
    "\n",
    "    if count == 0:\n",
    "        return 0, 0\n",
    "    return total, partial\n",
    "            \n",
    "\n",
    "def evaluate(individual):\n",
    "    tree = gp.PrimitiveTree(individual)\n",
    "    regex = \"({})\".format(gp.compile(tree, pset).regex)\n",
    "    length = len(regex)**2\n",
    "    if length == 0:\n",
    "        length = sys.maxint\n",
    "        \n",
    "    correct, correct_partial = test_testset(regex, correct_testset)\n",
    "    wrong, wrong_partial = test_testset(regex, wrong_testset)\n",
    "    \n",
    "    return correct, correct_partial, wrong, wrong_partial, length"
   ]
  },
  {
   "cell_type": "code",
   "execution_count": 2,
   "metadata": {
    "collapsed": false,
    "deletable": true,
    "editable": true
   },
   "outputs": [
    {
     "ename": "NameError",
     "evalue": "name 'toolbox' is not defined",
     "output_type": "error",
     "traceback": [
      "\u001b[0;31m---------------------------------------------------------------------------\u001b[0m",
      "\u001b[0;31mNameError\u001b[0m                                 Traceback (most recent call last)",
      "\u001b[0;32m<ipython-input-2-34d983920d19>\u001b[0m in \u001b[0;36m<module>\u001b[0;34m()\u001b[0m\n\u001b[0;32m----> 1\u001b[0;31m \u001b[0mtoolbox\u001b[0m\u001b[0;34m.\u001b[0m\u001b[0mregister\u001b[0m\u001b[0;34m(\u001b[0m\u001b[0;34m\"evaluate\"\u001b[0m\u001b[0;34m,\u001b[0m \u001b[0mevaluate\u001b[0m\u001b[0;34m)\u001b[0m\u001b[0;34m\u001b[0m\u001b[0m\n\u001b[0m\u001b[1;32m      2\u001b[0m \u001b[0mtoolbox\u001b[0m\u001b[0;34m.\u001b[0m\u001b[0mregister\u001b[0m\u001b[0;34m(\u001b[0m\u001b[0;34m\"select\"\u001b[0m\u001b[0;34m,\u001b[0m \u001b[0mtools\u001b[0m\u001b[0;34m.\u001b[0m\u001b[0mselTournament\u001b[0m\u001b[0;34m,\u001b[0m \u001b[0mtournsize\u001b[0m\u001b[0;34m=\u001b[0m\u001b[0;36m3\u001b[0m\u001b[0;34m)\u001b[0m\u001b[0;34m\u001b[0m\u001b[0m\n\u001b[1;32m      3\u001b[0m \u001b[0mtoolbox\u001b[0m\u001b[0;34m.\u001b[0m\u001b[0mregister\u001b[0m\u001b[0;34m(\u001b[0m\u001b[0;34m\"mate\"\u001b[0m\u001b[0;34m,\u001b[0m \u001b[0mgp\u001b[0m\u001b[0;34m.\u001b[0m\u001b[0mcxOnePoint\u001b[0m\u001b[0;34m)\u001b[0m\u001b[0;34m\u001b[0m\u001b[0m\n\u001b[1;32m      4\u001b[0m \u001b[0mtoolbox\u001b[0m\u001b[0;34m.\u001b[0m\u001b[0mregister\u001b[0m\u001b[0;34m(\u001b[0m\u001b[0;34m\"expr_mut\"\u001b[0m\u001b[0;34m,\u001b[0m \u001b[0mgp\u001b[0m\u001b[0;34m.\u001b[0m\u001b[0mgenFull\u001b[0m\u001b[0;34m,\u001b[0m \u001b[0mmin_\u001b[0m\u001b[0;34m=\u001b[0m\u001b[0;36m1\u001b[0m\u001b[0;34m,\u001b[0m \u001b[0mmax_\u001b[0m\u001b[0;34m=\u001b[0m\u001b[0;36m20\u001b[0m\u001b[0;34m)\u001b[0m\u001b[0;34m\u001b[0m\u001b[0m\n\u001b[1;32m      5\u001b[0m \u001b[0mtoolbox\u001b[0m\u001b[0;34m.\u001b[0m\u001b[0mregister\u001b[0m\u001b[0;34m(\u001b[0m\u001b[0;34m\"mutate\"\u001b[0m\u001b[0;34m,\u001b[0m \u001b[0mgp\u001b[0m\u001b[0;34m.\u001b[0m\u001b[0mmutUniform\u001b[0m\u001b[0;34m,\u001b[0m \u001b[0mexpr\u001b[0m\u001b[0;34m=\u001b[0m\u001b[0mtoolbox\u001b[0m\u001b[0;34m.\u001b[0m\u001b[0mexpr_mut\u001b[0m\u001b[0;34m,\u001b[0m \u001b[0mpset\u001b[0m\u001b[0;34m=\u001b[0m\u001b[0mpset\u001b[0m\u001b[0;34m)\u001b[0m\u001b[0;34m\u001b[0m\u001b[0m\n",
      "\u001b[0;31mNameError\u001b[0m: name 'toolbox' is not defined"
     ]
    }
   ],
   "source": [
    "toolbox.register(\"evaluate\", evaluate)\n",
    "toolbox.register(\"select\", tools.selTournament, tournsize=3)\n",
    "toolbox.register(\"mate\", gp.cxOnePoint)\n",
    "toolbox.register(\"expr_mut\", gp.genFull, min_=1, max_=20)\n",
    "toolbox.register(\"mutate\", gp.mutUniform, expr=toolbox.expr_mut, pset=pset)\n",
    "\n",
    "stats_correct = tools.Statistics(lambda ind: ind.fitness.values[0])\n",
    "stats_correct_partial = tools.Statistics(lambda ind: ind.fitness.values[1])\n",
    "stats_wrong = tools.Statistics(lambda ind: ind.fitness.values[2])\n",
    "stats_wrong_partial = tools.Statistics(lambda ind: ind.fitness.values[3])\n",
    "stats_size = tools.Statistics(lambda ind: ind.fitness.values[4])\n",
    "\n",
    "mstats = tools.MultiStatistics(stats_correct_partial=stats_correct_partial,\n",
    "                               stats_wrong_partial=stats_wrong_partial,\n",
    "                               stats_size=stats_size)\n",
    "mstats.register(\"avg\", np.mean)\n",
    "mstats.register(\"max\", np.max)"
   ]
  },
  {
   "cell_type": "code",
   "execution_count": 56,
   "metadata": {
    "collapsed": false,
    "deletable": true,
    "editable": true
   },
   "outputs": [
    {
     "name": "stdout",
     "output_type": "stream",
     "text": [
      "   \t      \t stats_correct_partial \t stats_size \t  stats_wrong_partial   \n",
      "   \t      \t-----------------------\t------------\t------------------------\n",
      "gen\tnevals\tavg       \tmax       \tavg    \tmax \tavg        \tmax     \n",
      "0  \t5000  \t0.00089123\t3.27968   \t201.822\t3364\t0.000166667\t0.833333\n",
      "1  \t3049  \t0.00764302\t4.80909   \t133.428\t7569\t0.0133021  \t2.83333 \n",
      "2  \t3004  \t0.0279071 \t4.80909   \t115.072\t7744\t0.0284403  \t2.1     \n",
      "3  \t2981  \t0.0816259 \t4.80909   \t90.1402\t5929\t0.0584883  \t2.1     \n",
      "4  \t3009  \t0.200577  \t10.4854   \t86.1452\t10816\t0.115307   \t6.49242 \n",
      "5  \t2977  \t0.460404  \t14        \t90.768 \t6241 \t0.2375     \t15      \n",
      "6  \t3032  \t0.861701  \t14        \t115.445\t13689\t0.416983   \t15      \n",
      "7  \t3017  \t1.49999   \t14        \t157.175\t12321\t0.676391   \t15      \n",
      "8  \t3019  \t2.38293   \t14        \t235.64 \t5929 \t0.957204   \t15      \n",
      "9  \t2962  \t3.64865   \t14        \t394.382\t5184 \t1.39356    \t15      \n",
      "10 \t3074  \t5.19622   \t14        \t532.202\t5041 \t2.29328    \t15      \n",
      "11 \t3023  \t7.26503   \t14        \t558.224\t10609\t4.24625    \t15      \n",
      "12 \t3021  \t9.87443   \t14        \t542.743\t5041 \t7.64946    \t15      \n",
      "13 \t2994  \t11.6325   \t14        \t496.262\t7225 \t10.9936    \t15      \n",
      "14 \t3081  \t11.7346   \t14        \t433.997\t5929 \t11.3203    \t15      \n",
      "15 \t3005  \t11.7611   \t14        \t447.852\t8836 \t10.2236    \t15      \n",
      "16 \t2996  \t11.6135   \t14        \t475.574\t12769\t8.81465    \t15      \n",
      "17 \t3069  \t11.2662   \t14        \t430.086\t13689\t7.86127    \t15      \n",
      "18 \t2971  \t11.3308   \t14        \t415.818\t15625\t7.43587    \t15      \n",
      "19 \t3003  \t11.636    \t14        \t446.522\t5041 \t6.91746    \t15      \n",
      "20 \t3042  \t12.1937   \t14        \t466.045\t11449\t6.44401    \t15      \n"
     ]
    }
   ],
   "source": [
    "NGEN = 20\n",
    "pop = toolbox.population(n=5000)\n",
    "hof = tools.HallOfFame(10)\n",
    "pop, log = algorithms.eaSimple(pop, toolbox, cxpb=0.5, mutpb=0.2, ngen=NGEN, stats=mstats,\n",
    "                               halloffame=hof, verbose=True)\n"
   ]
  },
  {
   "cell_type": "code",
   "execution_count": 58,
   "metadata": {
    "collapsed": false,
    "deletable": true,
    "editable": true,
    "scrolled": false
   },
   "outputs": [
    {
     "name": "stdout",
     "output_type": "stream",
     "text": [
      "A[DEA]+E (14, 14.0, 4, 5.499999999999999, 100)\n",
      "A[CDAE]+E (14, 14.0, 4, 5.499999999999999, 121)\n",
      "A[CDDAE]+E (14, 14.0, 4, 5.499999999999999, 144)\n",
      "A[CEDABE]+E (14, 14.0, 4, 5.499999999999999, 169)\n",
      "A[CEDACA]+E (14, 14.0, 4, 5.499999999999999, 169)\n",
      "A[CEDAEDE]+E (14, 14.0, 4, 5.499999999999999, 196)\n",
      "A[CABEECD]+E (14, 14.0, 4, 5.499999999999999, 196)\n",
      "A[CEDACAE]+E (14, 14.0, 4, 5.499999999999999, 196)\n",
      "A[ADEBEDE]+E (14, 14.0, 4, 5.499999999999999, 196)\n",
      "A[DCDEDBDA]+E (14, 14.0, 4, 5.499999999999999, 225)\n"
     ]
    }
   ],
   "source": [
    "for item in hof.items:\n",
    "    tree = gp.PrimitiveTree(item)\n",
    "    #draw_tree(tree)\n",
    "    print gp.compile(tree, pset).regex, toolbox.evaluate(tree)"
   ]
  },
  {
   "cell_type": "code",
   "execution_count": null,
   "metadata": {
    "collapsed": false,
    "deletable": true,
    "editable": true
   },
   "outputs": [],
   "source": [
    "gp.compile(tree, pset).regex"
   ]
  },
  {
   "cell_type": "code",
   "execution_count": null,
   "metadata": {
    "collapsed": false,
    "deletable": true,
    "editable": true
   },
   "outputs": [],
   "source": [
    " for item in items:\n",
    "    print re.match('((?:A)+(?:D)+(?:E)+)', item).groups()\n",
    "    print best\n",
    "    current_value = len(best) / float(len(item))\n",
    "    #print current_value\n",
    "    if current_value == 1.0:\n",
    "        current_value *= PERFECT_SCALE\n",
    "    print current_value\n"
   ]
  },
  {
   "cell_type": "code",
   "execution_count": null,
   "metadata": {
    "collapsed": true,
    "deletable": true,
    "editable": true
   },
   "outputs": [],
   "source": []
  },
  {
   "cell_type": "code",
   "execution_count": null,
   "metadata": {
    "collapsed": true,
    "deletable": true,
    "editable": true
   },
   "outputs": [],
   "source": []
  }
 ],
 "metadata": {
  "kernelspec": {
   "display_name": "Python 2",
   "language": "python",
   "name": "python2"
  },
  "language_info": {
   "codemirror_mode": {
    "name": "ipython",
    "version": 2
   },
   "file_extension": ".py",
   "mimetype": "text/x-python",
   "name": "python",
   "nbconvert_exporter": "python",
   "pygments_lexer": "ipython2",
   "version": "2.7.12"
  }
 },
 "nbformat": 4,
 "nbformat_minor": 2
}
